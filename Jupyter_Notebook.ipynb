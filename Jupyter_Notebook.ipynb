{
 "cells": [
  {
   "cell_type": "markdown",
   "metadata": {},
   "source": [
    "<center>\n",
    "    <img src=\"https://cf-courses-data.s3.us.cloud-object-storage.appdomain.cloud/IBMDeveloperSkillsNetwork-DS0105EN-SkillsNetwork/labs/Module2/images/SN_web_lightmode.png\" width=\"300\" alt=\"cognitiveclass.ai logo\">\n",
    "</center>\n"
   ]
  },
  {
   "cell_type": "markdown",
   "metadata": {},
   "source": [
    "#### Add your code below following the instructions given in the course\n"
   ]
  },
  {
   "cell_type": "markdown",
   "metadata": {},
   "source": [
    "## Jupyter Notebook"
   ]
  },
  {
   "cell_type": "markdown",
   "metadata": {},
   "source": [
    "### Introduccion \n",
    "Cuaderno diseñado para proyecto final modulo 2 Data Sciences"
   ]
  },
  {
   "cell_type": "markdown",
   "metadata": {},
   "source": [
    "# Lenguajes de la Ciencia de Datos\n",
    "\n",
    "1. **Python**\n",
    "2. **R**\n",
    "3. **Julia**\n",
    "4. **SQL**\n",
    "5. **Scala**\n",
    "6. **Java**\n",
    "7. **MATLAB**\n",
    "8. **SAS**\n",
    "9. **JavaScript**\n",
    "10. **C/C++**"
   ]
  },
  {
   "cell_type": "markdown",
   "metadata": {},
   "source": [
    "# Bibliotecas de Ciencia de Datos\n",
    "\n",
    "1. **Pandas** - Manipulación y análisis de datos.\n",
    "2. **NumPy** - Computación numérica y operaciones con matrices.\n",
    "3. **Matplotlib** - Visualización de datos.\n",
    "4. **Seaborn** - Visualización de datos basada en Matplotlib.\n",
    "5. **Scikit-learn** - Aprendizaje automático.\n",
    "6. **TensorFlow** - Aprendizaje profundo y redes neuronales.\n",
    "7. **Keras** - API de alto nivel para redes neuronales, basada en TensorFlow.\n",
    "8. **PyTorch** - Aprendizaje profundo y redes neuronales.\n",
    "9. **Statsmodels** - Modelado estadístico.\n",
    "10. **SciPy** - Algoritmos y funciones avanzadas para matemáticas, ciencia e ingeniería.\n",
    "11. **NLTK** - Procesamiento de lenguaje natural.\n",
    "12. **Gensim** - Modelado de temas y procesamiento de lenguaje natural.\n",
    "13. **XGBoost** - Implementación eficiente de gradient boosting.\n",
    "14. **LightGBM** - Implementación rápida y eficiente de gradient boosting.\n",
    "15. **Plotly** - Visualización de datos interactiva."
   ]
  },
  {
   "cell_type": "markdown",
   "metadata": {},
   "source": [
    "# Herramientas de Ciencia de Datos\n",
    "\n",
    "| Herramienta       | Descripción                                      |\n",
    "|-------------------|--------------------------------------------------|\n",
    "| Jupyter Notebook  | Entorno interactivo para análisis y visualización de datos. |\n",
    "| RStudio           | Entorno de desarrollo integrado (IDE) para R.    |\n",
    "| Apache Hadoop     | Framework para almacenamiento y procesamiento de grandes volúmenes de datos. |\n",
    "| Apache Spark      | Motor de análisis de datos en tiempo real.       |\n",
    "| Tableau           | Herramienta de visualización de datos.           |\n",
    "| Power BI          | Herramienta de análisis y visualización de datos de Microsoft. |\n",
    "| KNIME             | Plataforma de integración de datos y análisis.   |\n",
    "| RapidMiner        | Plataforma de ciencia de datos para análisis predictivo. |\n",
    "| Google Colab      | Entorno de Jupyter Notebook en la nube.          |\n",
    "| DataRobot         | Plataforma de aprendizaje automático automatizado. |\n",
    "| SAS               | Software de análisis estadístico.                |\n",
    "| MATLAB            | Entorno de programación para análisis numérico y visualización. |\n",
    "| IBM Watson Studio | Plataforma de ciencia de datos y aprendizaje automático. |\n",
    "| Orange            | Herramienta de minería de datos y visualización. |\n",
    "| BigML             | Plataforma de aprendizaje automático en la nube. |"
   ]
  },
  {
   "cell_type": "markdown",
   "metadata": {},
   "source": [
    "# Ejemplos de Expresiones Aritméticas\n",
    "\n",
    "Las expresiones aritméticas son combinaciones de números, operadores y paréntesis que se evalúan para producir un valor numérico. A continuación se presentan algunos ejemplos de expresiones aritméticas:\n",
    "\n",
    "1. **Suma**\n",
    "   ```python\n",
    "   5 + 3  # Resultado: 8\n",
    "   ```\n",
    "\n",
    "2. **Resta**\n",
    "   ```python\n",
    "   10 - 4  # Resultado: 6\n",
    "   ```\n",
    "\n",
    "3. **Multiplicación**\n",
    "   ```python\n",
    "   7 * 2  # Resultado: 14\n",
    "   ```\n",
    "\n",
    "4. **División**\n",
    "   ```python\n",
    "   20 / 5  # Resultado: 4.0\n",
    "   ```\n",
    "\n",
    "5. **División Entera**\n",
    "   ```python\n",
    "   20 // 3  # Resultado: 6\n",
    "   ```\n",
    "\n",
    "6. **Módulo**\n",
    "   ```python\n",
    "   20 % 3  # Resultado: 2\n",
    "   ```\n",
    "\n",
    "7. **Exponenciación**\n",
    "   ```python\n",
    "   2 ** 3  # Resultado: 8\n",
    "   ```\n",
    "\n",
    "8. **Uso de Paréntesis**\n",
    "   ```python\n",
    "   (5 + 3) * 2  # Resultado: 16\n",
    "   ```\n",
    "\n",
    "9. **Combinación de Operadores**\n",
    "   ```python\n",
    "   10 - 4 * 2 + 6 / 3  # Resultado: 4.0\n",
    "   ```\n",
    "\n",
    "10. **Operaciones con Números Negativos**\n",
    "    ```python\n",
    "    -5 + 3  # Resultado: -2\n",
    "    ```\n",
    "\n",
    "Estas expresiones aritméticas se pueden utilizar en diversos contextos de programación y matemáticas para realizar cálculos y operaciones numéricas."
   ]
  },
  {
   "cell_type": "code",
   "execution_count": 1,
   "metadata": {},
   "outputs": [
    {
     "name": "stdout",
     "output_type": "stream",
     "text": [
      "Multiplicación: 5 * 3 = 15\n",
      "Suma: 10 + 7 = 17\n"
     ]
    }
   ],
   "source": [
    "# Multiplicación de números\n",
    "numero1 = 5\n",
    "numero2 = 3\n",
    "resultado_multiplicacion = numero1 * numero2\n",
    "print(f\"Multiplicación: {numero1} * {numero2} = {resultado_multiplicacion}\")\n",
    "\n",
    "# Suma de números\n",
    "numero3 = 10\n",
    "numero4 = 7\n",
    "resultado_suma = numero3 + numero4\n",
    "print(f\"Suma: {numero3} + {numero4} = {resultado_suma}\")"
   ]
  },
  {
   "cell_type": "code",
   "execution_count": 2,
   "metadata": {},
   "outputs": [
    {
     "name": "stdout",
     "output_type": "stream",
     "text": [
      "135 minutos son 2 horas y 15 minutos.\n"
     ]
    }
   ],
   "source": [
    "# Conversión de minutos a horas\n",
    "def convertir_minutos_a_horas(minutos):\n",
    "    horas = minutos // 60\n",
    "    minutos_restantes = minutos % 60\n",
    "    return horas, minutos_restantes\n",
    "\n",
    "# Ejemplo de uso\n",
    "minutos = 135\n",
    "horas, minutos_restantes = convertir_minutos_a_horas(minutos)\n",
    "print(f\"{minutos} minutos son {horas} horas y {minutos_restantes} minutos.\")"
   ]
  },
  {
   "cell_type": "code",
   "execution_count": 3,
   "metadata": {},
   "outputs": [
    {
     "name": "stdout",
     "output_type": "stream",
     "text": [
      "Lista de Objetivos:\n",
      "1. Aprender Python\n",
      "2. Dominar la ciencia de datos\n",
      "3. Desarrollar habilidades en machine learning\n",
      "4. Contribuir a proyectos de código abierto\n",
      "5. Mejorar habilidades de visualización de datos\n"
     ]
    }
   ],
   "source": [
    "# Lista de objetivos\n",
    "objetivos = [\n",
    "    \"Aprender Python\",\n",
    "    \"Dominar la ciencia de datos\",\n",
    "    \"Desarrollar habilidades en machine learning\",\n",
    "    \"Contribuir a proyectos de código abierto\",\n",
    "    \"Mejorar habilidades de visualización de datos\"\n",
    "]\n",
    "\n",
    "# Imprimir la lista de objetivos\n",
    "print(\"Lista de Objetivos:\")\n",
    "for i, objetivo in enumerate(objetivos, start=1):\n",
    "    print(f\"{i}. {objetivo}\")"
   ]
  },
  {
   "cell_type": "markdown",
   "metadata": {},
   "source": [
    "## Nombre del Autor\n",
    "\n",
    "**Autor: Daniel Jaimes** "
   ]
  }
 ],
 "metadata": {
  "kernelspec": {
   "display_name": "Python 3 (ipykernel)",
   "language": "python",
   "name": "python3"
  },
  "language_info": {
   "codemirror_mode": {
    "name": "ipython",
    "version": 3
   },
   "file_extension": ".py",
   "mimetype": "text/x-python",
   "name": "python",
   "nbconvert_exporter": "python",
   "pygments_lexer": "ipython3",
   "version": "3.12.8"
  }
 },
 "nbformat": 4,
 "nbformat_minor": 4
}
